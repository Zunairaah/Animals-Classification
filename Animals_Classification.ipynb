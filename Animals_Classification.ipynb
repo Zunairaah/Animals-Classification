{
  "nbformat": 4,
  "nbformat_minor": 0,
  "metadata": {
    "colab": {
      "provenance": []
    },
    "kernelspec": {
      "name": "python3",
      "display_name": "Python 3"
    },
    "language_info": {
      "name": "python"
    }
  },
  "cells": [
    {
      "cell_type": "markdown",
      "source": [
        "# Import Dependencies"
      ],
      "metadata": {
        "id": "NCrA-tpMbkbx"
      }
    },
    {
      "cell_type": "code",
      "execution_count": null,
      "metadata": {
        "id": "KrmEuSYJbc3Q"
      },
      "outputs": [],
      "source": [
        "import torch\n",
        "import torch.nn as nn\n",
        "import torch.optim as optim\n",
        "from torchvision import datasets, transforms, models\n",
        "import os"
      ]
    },
    {
      "cell_type": "markdown",
      "source": [
        "# Data Transformations"
      ],
      "metadata": {
        "id": "6NpWSlRfbznq"
      }
    },
    {
      "cell_type": "code",
      "source": [
        "data_transforms = {\n",
        "    'training_set': transforms.Compose([\n",
        "        transforms.RandomResizedCrop(224),\n",
        "        transforms.RandomHorizontalFlip(),\n",
        "        transforms.ToTensor(),\n",
        "        transforms.Normalize([0.485, 0.456, 0.406], [0.229, 0.224, 0.225])\n",
        "    ]),\n",
        "   'test_set': transforms.Compose([\n",
        "        transforms.Resize(256),\n",
        "        transforms.CenterCrop(224),\n",
        "        transforms.ToTensor(),\n",
        "        transforms.Normalize([0.485, 0.456, 0.406], [0.229, 0.224, 0.225])\n",
        "    ]),\n",
        "}"
      ],
      "metadata": {
        "id": "qQZpOM_tb0zQ"
      },
      "execution_count": null,
      "outputs": []
    },
    {
      "cell_type": "markdown",
      "source": [
        "# Import dataset from drive"
      ],
      "metadata": {
        "id": "I7KVobnob56g"
      }
    },
    {
      "cell_type": "code",
      "source": [
        "from google.colab import drive\n",
        "drive.mount('/content/drive')\n",
        "\n",
        "# Define the base directory for your data\n",
        "data_dir = '/content/drive/MyDrive/Animals/Animals_Imges_5_classes'\n",
        "\n",
        "# Define the path to your training data\n",
        "train_data_path = '/content/drive/MyDrive/Animals/Animals_Imges_5_classes/Training_set'\n",
        "test_data_path = '/content/drive/MyDrive/Animals/Animals_Imges_5_classes/Test_set'\n",
        "\n",
        "# Check if the directory exists\n",
        "if not os.path.isdir(train_data_path):\n",
        "    print(\"The directory does not exist.\")\n",
        "else:\n",
        "    print(\"The directory exists.\")"
      ],
      "metadata": {
        "colab": {
          "base_uri": "https://localhost:8080/"
        },
        "id": "pMkEtEPCb7KQ",
        "outputId": "f432033e-afd1-4968-bf69-275760b0d2b1"
      },
      "execution_count": null,
      "outputs": [
        {
          "output_type": "stream",
          "name": "stdout",
          "text": [
            "Drive already mounted at /content/drive; to attempt to forcibly remount, call drive.mount(\"/content/drive\", force_remount=True).\n",
            "The directory exists.\n"
          ]
        }
      ]
    },
    {
      "cell_type": "markdown",
      "source": [
        "# Create data loaders"
      ],
      "metadata": {
        "id": "vOR8SFkDcsov"
      }
    },
    {
      "cell_type": "code",
      "source": [
        "image_datasets = {x: datasets.ImageFolder(os.path.join(data_dir, x),\n",
        "                                           data_transforms[x.lower()])  # Re-add .lower() to match keys in data_transforms\n",
        "                   for x in ['Training_set', 'Test_set']}  # Use uppercase 'T' and 'S' to match folder names\n",
        "\n",
        "# Use torch.utils.data.DataLoader\n",
        "data_loaders = {x: torch.utils.data.DataLoader(image_datasets[x], batch_size = 4, shuffle = True, num_workers=4)\n",
        "                for x in ['Training_set', 'Test_set']}  # Use uppercase 'T' and 'S' here as well\n",
        "dataset_sizes = {x: len(image_datasets[x]) for x in ['Training_set', 'Test_set']}\n",
        "print(dataset_sizes)\n",
        "\n",
        "# Print classes names\n",
        "class_names = image_datasets['Training_set'].classes  # Use uppercase 'T'\n",
        "print(class_names)"
      ],
      "metadata": {
        "colab": {
          "base_uri": "https://localhost:8080/"
        },
        "id": "T72sbDeuctro",
        "outputId": "5e2da817-81d6-4298-92f1-402babbcbd8f"
      },
      "execution_count": null,
      "outputs": [
        {
          "output_type": "stream",
          "name": "stdout",
          "text": [
            "{'Training_set': 12668, 'Test_set': 2065}\n",
            "['Bird', 'Cat', 'Dog', 'Fish', 'Rabbit']\n"
          ]
        }
      ]
    },
    {
      "cell_type": "markdown",
      "source": [
        "# Load pre-trained model resnet-18"
      ],
      "metadata": {
        "id": "SQE1NQoTe2PM"
      }
    },
    {
      "cell_type": "code",
      "source": [
        "model = models.resnet18(pretrained=True)\n",
        "\n",
        "# freeze all layers except final classification layer\n",
        "for name, param in model.named_parameters():\n",
        "  if \"fc\" in name: # unfreeze the final classification layer\n",
        "    param.requires_grad = True\n",
        "  else:\n",
        "      param.requires_grad = False\n",
        "\n",
        "# define the loss function and optimizer\n",
        "criterion = nn.CrossEntropyLoss()\n",
        "optimizer = optim.SGD(model.parameters(), lr=0.001, momentum=0.9) # use all parameters\n",
        "\n",
        "# Move the model to the GPU if available\n",
        "device = torch.device(\"cuda:0\" if torch.cuda.is_available() else \"cpu\")\n",
        "model = model.to(device)"
      ],
      "metadata": {
        "id": "D4nGZ1gpe3jy"
      },
      "execution_count": null,
      "outputs": []
    },
    {
      "cell_type": "markdown",
      "source": [
        "# Training the model"
      ],
      "metadata": {
        "id": "VR0uDZVHfBDo"
      }
    },
    {
      "cell_type": "code",
      "source": [
        "# training loop\n",
        "num_epochs = 5\n",
        "for epoch in range(num_epochs):\n",
        "  for phase in ['Training_set', 'Test_set']:\n",
        "        if phase == 'Training_set':\n",
        "            model.train()\n",
        "        else:\n",
        "            model.eval()\n",
        "\n",
        "        running_loss = 0.0\n",
        "        running_corrects = 0\n",
        "        for inputs, labels in data_loaders[phase]:\n",
        "            inputs = inputs.to(device)\n",
        "            labels = labels.to(device)\n",
        "\n",
        "            optimizer.zero_grad()\n",
        "\n",
        "            with torch.set_grad_enabled(phase == 'Training_set'):\n",
        "                outputs = model(inputs)\n",
        "                _, preds = torch.max(outputs, 1)\n",
        "                loss = criterion(outputs, labels)\n",
        "\n",
        "                if phase == 'Training_set':\n",
        "                    loss.backward()\n",
        "                    optimizer.step()\n",
        "\n",
        "            running_loss += loss.item() * inputs.size(0)\n",
        "            running_corrects += torch.sum(preds == labels.data)\n",
        "\n",
        "        epoch_loss = running_loss / dataset_sizes[phase]\n",
        "        epoch_acc = running_corrects.double() / dataset_sizes[phase]\n",
        "\n",
        "        print(f'{phase} Loss: {epoch_loss:.4f} Acc: {epoch_acc:.4f}')\n",
        "print(\"Training is Completed!!\")"
      ],
      "metadata": {
        "colab": {
          "base_uri": "https://localhost:8080/"
        },
        "id": "zTpqlef9z9er",
        "outputId": "716c8cbb-80c7-48ef-d8ee-6160df22af13"
      },
      "execution_count": null,
      "outputs": [
        {
          "output_type": "stream",
          "name": "stdout",
          "text": [
            "Training_set Loss: 0.8172 Acc: 0.7251\n",
            "Test_set Loss: 0.1568 Acc: 0.9458\n",
            "Training_set Loss: 0.7128 Acc: 0.7541\n",
            "Test_set Loss: 0.1535 Acc: 0.9530\n",
            "Training_set Loss: 0.7066 Acc: 0.7531\n",
            "Test_set Loss: 0.1183 Acc: 0.9676\n",
            "Training_set Loss: 0.7106 Acc: 0.7513\n",
            "Test_set Loss: 0.1784 Acc: 0.9356\n",
            "Training_set Loss: 0.6883 Acc: 0.7603\n",
            "Test_set Loss: 0.1144 Acc: 0.9676\n",
            "Training is Completed!!\n"
          ]
        }
      ]
    },
    {
      "cell_type": "code",
      "source": [
        "# save the model\n",
        "torch.save(model.state_dict(), 'Animals Classification.pth')"
      ],
      "metadata": {
        "id": "ErkbTw3H0Xnk"
      },
      "execution_count": null,
      "outputs": []
    },
    {
      "cell_type": "code",
      "source": [
        "import os\n",
        "print(os.getcwd())"
      ],
      "metadata": {
        "colab": {
          "base_uri": "https://localhost:8080/"
        },
        "id": "SiKL5zeh0s0A",
        "outputId": "d2bdb614-3046-4eb0-8450-383c35c91e13"
      },
      "execution_count": null,
      "outputs": [
        {
          "output_type": "stream",
          "name": "stdout",
          "text": [
            "/content\n"
          ]
        }
      ]
    },
    {
      "cell_type": "markdown",
      "source": [
        "# Classification on unseen images"
      ],
      "metadata": {
        "id": "5omxI98J00Xu"
      }
    },
    {
      "cell_type": "code",
      "source": [
        "import os\n",
        "import torch\n",
        "from torchvision import models, transforms\n",
        "from PIL import Image\n",
        "\n",
        "# load the saved model\n",
        "model = models.resnet18(pretrained=True)\n",
        "model.fc = nn.Linear(model.fc.in_features, 1000)\n",
        "model.load_state_dict(torch.load('Animals Classification.pth'))\n",
        "model.eval()\n",
        "\n",
        "# create a new model with correct final layer\n",
        "new_model = models.resnet18(pretrained = True)\n",
        "new_model.fc = nn.Linear(new_model.fc.in_features, 4)\n",
        "\n",
        "# copy the weights and biases from the loaded model to new model\n",
        "new_model.fc.weight.data = model.fc.weight.data[0:4]\n",
        "new_model.fc.bias.data = model.fc.bias.data[0:4]\n",
        "\n",
        "# load and preprocess the unseen data\n",
        "image_path = '/content/drive/MyDrive/Animals/Animals_Imges_5_classes/Test_set/fish/1633810793211_Giant Gurmee Fish and Marble Catfish 6 for sale.jpg'\n",
        "\n",
        "# Check if the file exists in the current directory\n",
        "if not os.path.exists(image_path):\n",
        "    print(f\"Error: The file '{image_path}' does not exist in the current directory.\")\n",
        "    # You might want to handle this error, e.g., by asking the user for a different path or exiting the script.\n",
        "else:\n",
        "    image = Image.open(image_path)\n",
        "    preprocess = transforms.Compose([\n",
        "        transforms.Resize(256),\n",
        "        transforms.CenterCrop(224),\n",
        "        transforms.ToTensor(),\n",
        "        transforms.Normalize(mean=[0.485, 0.456, 0.406], std=[0.229, 0.224, 0.225])\n",
        "    ])\n",
        "\n",
        "    input_tensor = preprocess(image)\n",
        "    input_batch = input_tensor.unsqueeze(0)\n",
        "\n",
        "    # move the model to the GPU if available\n",
        "    device = torch.device(\"cuda:0\" if torch.cuda.is_available() else \"cpu\")\n",
        "    new_model = new_model.to(device)"
      ],
      "metadata": {
        "id": "EEpSH9ii2mFT"
      },
      "execution_count": null,
      "outputs": []
    },
    {
      "cell_type": "code",
      "source": [
        "# perform inference\n",
        "with torch.no_grad():\n",
        "    output = model(input_batch)\n",
        "\n",
        "# get the predicted class\n",
        "_, predicted_class = output.max(1)\n",
        "print(\"Predicted class:\", predicted_class)\n",
        "\n",
        "# map the predicted class to the class name\n",
        "class_names = ['Bird', 'cat', 'dog', 'fish', 'rabbit']\n",
        "predicted_class_name = class_names[predicted_class.item()]\n",
        "print(\"Predicted class name:\", predicted_class_name)"
      ],
      "metadata": {
        "colab": {
          "base_uri": "https://localhost:8080/"
        },
        "id": "XpUzKDCuZUVI",
        "outputId": "a3a167bd-23c5-4cce-80c1-ef80ad4c1031"
      },
      "execution_count": null,
      "outputs": [
        {
          "output_type": "stream",
          "name": "stdout",
          "text": [
            "Predicted class: tensor([3])\n",
            "Predicted class name: fish\n"
          ]
        }
      ]
    },
    {
      "cell_type": "code",
      "source": [
        "import numpy as np\n",
        "import matplotlib.pyplot as plt\n",
        "from PIL import Image\n",
        "\n",
        "# display the image with predicted class name\n",
        "image = np.array(image)\n",
        "plt.imshow(image)\n",
        "plt.axis('off')\n",
        "plt.text(10, 10, f'predicted: {predicted_class_name}', fontsize=12, color='white', backgroundcolor='black')\n",
        "plt.show()"
      ],
      "metadata": {
        "colab": {
          "base_uri": "https://localhost:8080/",
          "height": 406
        },
        "id": "QLJwOSMkZ8RN",
        "outputId": "47be968b-a56b-4ed7-8566-6ba34baf18f9"
      },
      "execution_count": null,
      "outputs": [
        {
          "output_type": "display_data",
          "data": {
            "text/plain": [
              "<Figure size 640x480 with 1 Axes>"
            ],
            "image/png": "[encoded data removed]"
          },
          "metadata": {}
        }
      ]
    }
  ]
}